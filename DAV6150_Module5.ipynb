{
 "cells": [
  {
   "cell_type": "markdown",
   "id": "d2005cd7",
   "metadata": {},
   "source": [
    "# <center>DAV 6150 Module 5 Assignment</center>\n",
    "## <center>Understanding Classification Model Performance Metrics</center>\n",
    "\n",
    "\n",
    "## Introduction\n",
    "\n",
    "# Introduction\n",
    "\n",
    "Evaluating the performance of classification models is a fundamental task in the field of machine learning. It allows us to assess their effectiveness and make informed decisions. In this notebook, we will look into the evaluation of classification model performance by developing custom functions to calculate essential metrics and visualizations.\n",
    "\n",
    "We will work with a binary classification problem using a dataset comprising approximately 180 labeled observations. Each observation contains an actual classification ('0' or '1') and a predicted classification based on the probability score outputted by a classification model. The probability score represents the likelihood of the correct classification being '1'. Our objective is to evaluate the model's performance by analyzing the relationship between the actual and predicted classifications.\n",
    "\n",
    "Let's start by import all the required resource including libraries and data"
   ]
  },
  {
   "cell_type": "code",
   "execution_count": 1,
   "id": "61718eb7",
   "metadata": {},
   "outputs": [
    {
     "data": {
      "text/html": [
       "<div>\n",
       "<style scoped>\n",
       "    .dataframe tbody tr th:only-of-type {\n",
       "        vertical-align: middle;\n",
       "    }\n",
       "\n",
       "    .dataframe tbody tr th {\n",
       "        vertical-align: top;\n",
       "    }\n",
       "\n",
       "    .dataframe thead th {\n",
       "        text-align: right;\n",
       "    }\n",
       "</style>\n",
       "<table border=\"1\" class=\"dataframe\">\n",
       "  <thead>\n",
       "    <tr style=\"text-align: right;\">\n",
       "      <th></th>\n",
       "      <th>pregnant</th>\n",
       "      <th>glucose</th>\n",
       "      <th>diastolic</th>\n",
       "      <th>skinfold</th>\n",
       "      <th>insulin</th>\n",
       "      <th>bmi</th>\n",
       "      <th>pedigree</th>\n",
       "      <th>age</th>\n",
       "      <th>class</th>\n",
       "      <th>scored.class</th>\n",
       "      <th>scored.probability</th>\n",
       "    </tr>\n",
       "  </thead>\n",
       "  <tbody>\n",
       "    <tr>\n",
       "      <th>0</th>\n",
       "      <td>7</td>\n",
       "      <td>124</td>\n",
       "      <td>70</td>\n",
       "      <td>33</td>\n",
       "      <td>215</td>\n",
       "      <td>25.5</td>\n",
       "      <td>0.161</td>\n",
       "      <td>37</td>\n",
       "      <td>0</td>\n",
       "      <td>0</td>\n",
       "      <td>0.328452</td>\n",
       "    </tr>\n",
       "    <tr>\n",
       "      <th>1</th>\n",
       "      <td>2</td>\n",
       "      <td>122</td>\n",
       "      <td>76</td>\n",
       "      <td>27</td>\n",
       "      <td>200</td>\n",
       "      <td>35.9</td>\n",
       "      <td>0.483</td>\n",
       "      <td>26</td>\n",
       "      <td>0</td>\n",
       "      <td>0</td>\n",
       "      <td>0.273190</td>\n",
       "    </tr>\n",
       "    <tr>\n",
       "      <th>2</th>\n",
       "      <td>3</td>\n",
       "      <td>107</td>\n",
       "      <td>62</td>\n",
       "      <td>13</td>\n",
       "      <td>48</td>\n",
       "      <td>22.9</td>\n",
       "      <td>0.678</td>\n",
       "      <td>23</td>\n",
       "      <td>1</td>\n",
       "      <td>0</td>\n",
       "      <td>0.109660</td>\n",
       "    </tr>\n",
       "    <tr>\n",
       "      <th>3</th>\n",
       "      <td>1</td>\n",
       "      <td>91</td>\n",
       "      <td>64</td>\n",
       "      <td>24</td>\n",
       "      <td>0</td>\n",
       "      <td>29.2</td>\n",
       "      <td>0.192</td>\n",
       "      <td>21</td>\n",
       "      <td>0</td>\n",
       "      <td>0</td>\n",
       "      <td>0.055998</td>\n",
       "    </tr>\n",
       "    <tr>\n",
       "      <th>4</th>\n",
       "      <td>4</td>\n",
       "      <td>83</td>\n",
       "      <td>86</td>\n",
       "      <td>19</td>\n",
       "      <td>0</td>\n",
       "      <td>29.3</td>\n",
       "      <td>0.317</td>\n",
       "      <td>34</td>\n",
       "      <td>0</td>\n",
       "      <td>0</td>\n",
       "      <td>0.100491</td>\n",
       "    </tr>\n",
       "  </tbody>\n",
       "</table>\n",
       "</div>"
      ],
      "text/plain": [
       "   pregnant  glucose  diastolic  skinfold  insulin   bmi  pedigree  age  \\\n",
       "0         7      124         70        33      215  25.5     0.161   37   \n",
       "1         2      122         76        27      200  35.9     0.483   26   \n",
       "2         3      107         62        13       48  22.9     0.678   23   \n",
       "3         1       91         64        24        0  29.2     0.192   21   \n",
       "4         4       83         86        19        0  29.3     0.317   34   \n",
       "\n",
       "   class  scored.class  scored.probability  \n",
       "0      0             0            0.328452  \n",
       "1      0             0            0.273190  \n",
       "2      1             0            0.109660  \n",
       "3      0             0            0.055998  \n",
       "4      0             0            0.100491  "
      ]
     },
     "execution_count": 1,
     "metadata": {},
     "output_type": "execute_result"
    }
   ],
   "source": [
    "# import all the required libraries\n",
    "import numpy as np\n",
    "import pandas as pd\n",
    "import matplotlib.pyplot as plt\n",
    "from sklearn.metrics import precision_score,roc_curve, auc, accuracy_score, recall_score, f1_score\n",
    "\n",
    "# Read the data into a Pandas dataframe\n",
    "df = pd.read_csv('M5_Data.csv')\n",
    "df.head()"
   ]
  },
  {
   "cell_type": "markdown",
   "id": "1facac6a",
   "metadata": {},
   "source": [
    "## Confusion Matrix\n",
    "In this section, we will compute the confusion matrix using the pd.crosstab() function from the Pandas library. The confusion matrix helps us understand the performance of our classification model by comparing the actual class labels with the predicted class labels."
   ]
  },
  {
   "cell_type": "code",
   "execution_count": 2,
   "id": "37061016",
   "metadata": {},
   "outputs": [
    {
     "data": {
      "text/html": [
       "<div>\n",
       "<style scoped>\n",
       "    .dataframe tbody tr th:only-of-type {\n",
       "        vertical-align: middle;\n",
       "    }\n",
       "\n",
       "    .dataframe tbody tr th {\n",
       "        vertical-align: top;\n",
       "    }\n",
       "\n",
       "    .dataframe thead th {\n",
       "        text-align: right;\n",
       "    }\n",
       "</style>\n",
       "<table border=\"1\" class=\"dataframe\">\n",
       "  <thead>\n",
       "    <tr style=\"text-align: right;\">\n",
       "      <th>scored.class</th>\n",
       "      <th>0</th>\n",
       "      <th>1</th>\n",
       "    </tr>\n",
       "    <tr>\n",
       "      <th>class</th>\n",
       "      <th></th>\n",
       "      <th></th>\n",
       "    </tr>\n",
       "  </thead>\n",
       "  <tbody>\n",
       "    <tr>\n",
       "      <th>0</th>\n",
       "      <td>119</td>\n",
       "      <td>5</td>\n",
       "    </tr>\n",
       "    <tr>\n",
       "      <th>1</th>\n",
       "      <td>30</td>\n",
       "      <td>27</td>\n",
       "    </tr>\n",
       "  </tbody>\n",
       "</table>\n",
       "</div>"
      ],
      "text/plain": [
       "scored.class    0   1\n",
       "class                \n",
       "0             119   5\n",
       "1              30  27"
      ]
     },
     "execution_count": 2,
     "metadata": {},
     "output_type": "execute_result"
    }
   ],
   "source": [
    "confusion_matrix = pd.crosstab(df['class'], df['scored.class'])\n",
    "confusion_matrix"
   ]
  },
  {
   "cell_type": "markdown",
   "id": "8ab8d569",
   "metadata": {},
   "source": [
    "In the obtained confusion matrix, the rows represent the actual classifications, while the columns represent the predicted classifications. Let's analyze the values within the matrix:\n",
    "\n",
    "The row labeled '0' corresponds to the actual class 0. It contains a total count of 124 observations. Among these, 119 were correctly predicted as class 0, while 5 were misclassified as class 1.\n",
    "\n",
    "Similarly, the row labeled '1' corresponds to the actual class 1. It consists of a total count of 57 observations. Out of these, 30 were correctly predicted as class 1, while 27 were incorrectly classified as class 0.\n",
    "\n",
    "Examining the columns, we can observe the following:The column labeled '0' represents the predicted class 0. It contains a total count of 149 predictions. Among these, 119 were correctly predicted as class 0, while 30 were incorrectly classified as class 1. On the other hand, the column labeled '1' represents the predicted class 1. It consists of a total count of 32 predictions. Out of these, 5 were misclassified as class 0, while 27 were correctly predicted as class 1. Each cell in the confusion matrix represents the count of observations that belong to a specific combination of the actual and predicted classifications.\n",
    "\n",
    "Now that we have a better understanding of the confusion matrix, we can proceed to extract the individual values for later use.\n",
    "\n",
    "\n",
    "## Extract Confusion Matrix Values\n",
    "In this next phase, our objective is to retrieve and store the individual values of the confusion matrix, namely True Positive, False Positive, True Negative, and False Negative. These values will be extracted from the results obtained using the crosstab() function and preserved for future use."
   ]
  },
  {
   "cell_type": "code",
   "execution_count": 3,
   "id": "4b4d39ab",
   "metadata": {},
   "outputs": [
    {
     "name": "stdout",
     "output_type": "stream",
     "text": [
      "True Negative: 119\n",
      "False Positive: 5\n",
      "False Negative: 30\n",
      "True Positive: 27\n"
     ]
    }
   ],
   "source": [
    "# Extract the individual values from the confusion matrix\n",
    "true_negative = confusion_matrix.iloc[0, 0]\n",
    "false_positive = confusion_matrix.iloc[0, 1]\n",
    "false_negative = confusion_matrix.iloc[1, 0]\n",
    "true_positive = confusion_matrix.iloc[1, 1]\n",
    "\n",
    "# Display the extracted values\n",
    "print(\"True Negative:\", true_negative)\n",
    "print(\"False Positive:\", false_positive)\n",
    "print(\"False Negative:\", false_negative)\n",
    "print(\"True Positive:\", true_positive)"
   ]
  },
  {
   "cell_type": "markdown",
   "id": "2d369fa4",
   "metadata": {},
   "source": [
    "## Accuracy Metric\n",
    "In this section, we will develop a Python function to compute the accuracy metric for binary classification data."
   ]
  },
  {
   "cell_type": "code",
   "execution_count": 4,
   "id": "1dbd76fd",
   "metadata": {},
   "outputs": [],
   "source": [
    "def compute_accuracy(actual_labels, predicted_labels):\n",
    "    num_correct_predictions = sum(actual_labels == predicted_labels)\n",
    "    total_predictions = len(actual_labels)\n",
    "    accuracy_value = num_correct_predictions / total_predictions\n",
    "    return accuracy_value"
   ]
  },
  {
   "cell_type": "markdown",
   "id": "bf63f7e3",
   "metadata": {},
   "source": [
    "## Precision Metric\n",
    "We will create a Python function to compute the precision metric for binary classification data."
   ]
  },
  {
   "cell_type": "code",
   "execution_count": 5,
   "id": "f55c3116",
   "metadata": {},
   "outputs": [],
   "source": [
    "def calculate_precision(actual_labels, predicted_labels):\n",
    "    positive_actual = actual_labels == 1\n",
    "    true_positive = np.sum(positive_actual & (predicted_labels == 1))\n",
    "    false_positive = np.sum((actual_labels == 0) & (predicted_labels == 1))\n",
    "    precision = true_positive / (true_positive + false_positive)\n",
    "    return precision"
   ]
  },
  {
   "cell_type": "markdown",
   "id": "7e595f8d",
   "metadata": {},
   "source": [
    "## Sensitivity Metric (Recall)\n",
    "We will create a custom Python function to compute the sensitivity (recall) metric for binary classification datasets. This function will enable us to measure the model's ability to correctly identify positive instances in relation to the actual positive samples."
   ]
  },
  {
   "cell_type": "code",
   "execution_count": 6,
   "id": "bb87d631",
   "metadata": {},
   "outputs": [],
   "source": [
    "def calculate_sensitivity(actual, predicted):\n",
    "    # Count the true positive and false negative instances\n",
    "    tp = sum((actual == 1) & (predicted == 1))\n",
    "    fn = sum((actual == 1) & (predicted == 0))\n",
    "    \n",
    "    # Calculate sensitivity (recall) using the obtained values\n",
    "    sensitivity = tp / (tp + fn)\n",
    "    \n",
    "    # Return the computed sensitivity\n",
    "    return sensitivity"
   ]
  },
  {
   "cell_type": "markdown",
   "id": "e5fd7cea",
   "metadata": {},
   "source": [
    "## Specificity Metric\n",
    "In this next stage, we will construct a custom Python function to compute the specificity metric specifically designed for binary classification datasets. This metric is a valuable measure that helps assess the model's performance in correctly identifying negative instances."
   ]
  },
  {
   "cell_type": "code",
   "execution_count": 7,
   "id": "34fd9056",
   "metadata": {},
   "outputs": [],
   "source": [
    "def calculate_specificity(actual, predicted):\n",
    "    true_negative = sum((actual == 0) & (predicted == 0))\n",
    "    false_positive = sum((actual == 0) & (predicted == 1))\n",
    "    specificity = true_negative / (true_negative + false_positive)\n",
    "    return specificity"
   ]
  },
  {
   "cell_type": "markdown",
   "id": "d9cfde70",
   "metadata": {},
   "source": [
    "## F1 Score Metric\n",
    "In this section, we will construct a custom Python function to compute the F1 Score metric specifically designed for binary classification datasets. The F1 Score is a useful metric that combines precision and recall, providing a balanced evaluation of a classification model's performance."
   ]
  },
  {
   "cell_type": "code",
   "execution_count": 8,
   "id": "46d71344",
   "metadata": {},
   "outputs": [],
   "source": [
    "def calculate_f1_score(actual, predicted):\n",
    "    true_positive = sum((actual == 1) & (predicted == 1))\n",
    "    false_positive = sum((actual == 0) & (predicted == 1))\n",
    "    false_negative = sum((actual == 1) & (predicted == 0))\n",
    "    f1_score = (2 * true_positive) / (2 * true_positive + false_positive + false_negative)\n",
    "    return f1_score"
   ]
  },
  {
   "cell_type": "markdown",
   "id": "f40b5df3",
   "metadata": {},
   "source": [
    "## ROC Curve and AUC\n",
    "In this section, we will develop a Python function to generate an ROC curve and compute the Area Under the Curve (AUC) for binary classification data. Subsequently, we will apply this function to the appropriate columns of the dataset for further analysis."
   ]
  },
  {
   "cell_type": "code",
   "execution_count": 9,
   "id": "b90fa80c",
   "metadata": {},
   "outputs": [],
   "source": [
    "def plot_roc_curve(actual, predicted_probs):\n",
    "    sorted_probs_actual = np.array(sorted(zip(predicted_probs, actual), reverse=True))\n",
    "    sorted_actual = sorted_probs_actual[:, 1]\n",
    "    sorted_predicted_probs = sorted_probs_actual[:, 0]\n",
    "    tpr = [0]\n",
    "    fpr = [0]\n",
    "    num_positives = sum(sorted_actual)\n",
    "    num_negatives = len(sorted_actual) - num_positives\n",
    "\n",
    "    for i in range(len(sorted_actual)):\n",
    "        if sorted_actual[i] == 1:\n",
    "            tpr.append(tpr[-1] + 1 / num_positives)\n",
    "            fpr.append(fpr[-1])\n",
    "        else:\n",
    "            tpr.append(tpr[-1])\n",
    "            fpr.append(fpr[-1] + 1 / num_negatives)\n",
    "\n",
    "    auc = np.trapz(tpr, fpr)\n",
    "\n",
    "    plt.plot(fpr, tpr, color='red', lw=2, label='ROC curve (AUC = %0.2f)' % auc)\n",
    "    plt.plot([0, 1], [0, 1], color='blue', lw=2, linestyle='--')\n",
    "    plt.xlim([0.0, 1.0])\n",
    "    plt.ylim([0.0, 1.05])\n",
    "    plt.xlabel('False Positive Rate')\n",
    "    plt.ylabel('True Positive Rate')\n",
    "    plt.title('Receiver Operating Characteristic (ROC) Curve')\n",
    "    plt.legend(loc=\"lower right\")\n",
    "    plt.show()\n",
    "\n",
    "    return auc\n"
   ]
  },
  {
   "cell_type": "markdown",
   "id": "7e8c7d57",
   "metadata": {},
   "source": [
    "## Results of Custom Functions\n",
    "\n",
    "In this section, we will examine the output of the custom functions we developed earlier. By utilizing these functions, we can calculate essential performance metrics and visualize the evaluation of our classification model."
   ]
  },
  {
   "cell_type": "code",
   "execution_count": 10,
   "id": "e1558f11",
   "metadata": {},
   "outputs": [
    {
     "name": "stdout",
     "output_type": "stream",
     "text": [
      "Custom Accuracy: 0.8066298342541437\n",
      "Custom Precision: 0.84375\n",
      "Custom Sensitivity: 0.47368421052631576\n",
      "Custom Specificity: 0.9596774193548387\n",
      "Custom F1 Score: 0.6067415730337079\n"
     ]
    }
   ],
   "source": [
    "actual = df['class']\n",
    "predicted = df['scored.class']\n",
    "\n",
    "custom_accuracy = compute_accuracy(actual, predicted)\n",
    "custom_precision = calculate_precision(actual, predicted)\n",
    "custom_sensitivity = calculate_sensitivity(actual, predicted)\n",
    "specificity = calculate_specificity(actual, predicted)\n",
    "custom_f1_score = calculate_f1_score(actual, predicted)\n",
    "\n",
    "print(\"Custom Accuracy:\", custom_accuracy)\n",
    "print(\"Custom Precision:\", custom_precision)\n",
    "print(\"Custom Sensitivity:\", custom_sensitivity)\n",
    "print(\"Custom Specificity:\", specificity)\n",
    "print(\"Custom F1 Score:\", custom_f1_score)"
   ]
  },
  {
   "cell_type": "markdown",
   "id": "9672f5ff",
   "metadata": {},
   "source": [
    "## Comparison with Scikit-learn Functions\n",
    "\n",
    "We'll proceed to calculate the output of the metrics using inbuilt Scikit-learn Functions"
   ]
  },
  {
   "cell_type": "code",
   "execution_count": 11,
   "id": "8a349e88",
   "metadata": {},
   "outputs": [
    {
     "name": "stdout",
     "output_type": "stream",
     "text": [
      "Sklearn Accuracy: 0.8066298342541437\n",
      "Sklearn Precision: 0.84375\n",
      "Sklearn Sensitivity: 0.47368421052631576\n",
      "Sklearn F1 Score: 0.6067415730337079\n"
     ]
    }
   ],
   "source": [
    "sklearn_accuracy = accuracy_score(actual, predicted)\n",
    "sklearn_precision = precision_score(actual, predicted)\n",
    "sklearn_sensitivity = recall_score(actual, predicted)\n",
    "sklearn_f1_score = f1_score(actual, predicted)\n",
    "\n",
    "print(\"Sklearn Accuracy:\", sklearn_accuracy)\n",
    "print(\"Sklearn Precision:\", sklearn_precision)\n",
    "print(\"Sklearn Sensitivity:\", sklearn_sensitivity)\n",
    "print(\"Sklearn F1 Score:\", sklearn_f1_score)"
   ]
  },
  {
   "cell_type": "markdown",
   "id": "0c8c4d58",
   "metadata": {},
   "source": [
    "After examining the outputs of the custom functions and the pre-built functions available in Scikit-learn, it is clear that they produce comparable results. The similarity between these approaches reinforces the reliability and effectiveness of both our custom implementations and the established functions provided by Scikit-learn. This alignment between the two approaches further strengthens our confidence in the accuracy and validity of our custom functions.\n",
    "\n",
    "## ROC Curve and AUC Comparison"
   ]
  },
  {
   "cell_type": "code",
   "execution_count": 12,
   "id": "bc1704e3",
   "metadata": {},
   "outputs": [
    {
     "data": {
      "image/png": "[encoded data removed]",
      "text/plain": [
       "<Figure size 640x480 with 1 Axes>"
      ]
     },
     "metadata": {},
     "output_type": "display_data"
    },
    {
     "name": "stdout",
     "output_type": "stream",
     "text": [
      "Custom AUC: 0.8503112620260332\n",
      "Scikit-learn AUC: 0.8503112620260327\n"
     ]
    }
   ],
   "source": [
    "# Extract the predicted probabilities from the dataframe\n",
    "predicted_probs = df['scored.probability']\n",
    "\n",
    "# Calculate the AUC using the custom plot_roc_curve function\n",
    "custom_roc_auc = plot_roc_curve(actual, predicted_probs)\n",
    "\n",
    "# Calculate the AUC using the roc_curve and auc functions from Scikit-learn\n",
    "sklearn_fpr, sklearn_tpr, _ = roc_curve(actual, predicted_probs)\n",
    "sklearn_roc_auc = auc(sklearn_fpr, sklearn_tpr)\n",
    "\n",
    "# Display the AUC values\n",
    "print(\"Custom AUC:\", custom_roc_auc)\n",
    "print(\"Scikit-learn AUC:\", sklearn_roc_auc)\n"
   ]
  },
  {
   "cell_type": "markdown",
   "id": "32d2b963",
   "metadata": {},
   "source": [
    "The AUC (Area Under the Curve) value calculated using the custom implementation is 0.8503112620260332, while the AUC value obtained from Scikit-learn is 0.8503112620260327. These two AUC values are remarkably close, differing only in the last decimal place. This close similarity suggests that the custom implementation of the ROC curve and AUC calculation yields results that align with the pre-built function provided by Scikit-learn. Hence, we can confidently affirm that the custom function is reliable and accurate when evaluating the performance of binary classification models. This remarkably close values between the custom and Scikit-learn implementations strengthens our confidence in the effectiveness of our custom approach."
   ]
  },
  {
   "cell_type": "markdown",
   "id": "89972b29",
   "metadata": {},
   "source": [
    "## Conclusion\n",
    "\n",
    "In this notebook, we have looked into the assessment of classification model performance, using a unique approach. Our exploration involved the development of custom functions for computing crucial performance metrics, including accuracy, precision, sensitivity, specificity, and F1 Score. Additionally, we devised a distinct function for visualizing the Receiver Operating Characteristic (ROC) curve and determining the corresponding Area Under the Curve (AUC).\n",
    "\n",
    "By using our innovative custom functions on the provided dataset, we evaluated the performance of the classification model. To establish the validity and accuracy of our custom implementations, we conducted a comprehensive comparison with the existing functions offered by the scikit-learn library. Remarkably, the results generated by our custom functions closely aligned with those produced by the established functions, validating the robustness and precision of our unique algorithms.\n",
    "\n",
    "Furthermore, our custom ROC curve function not only skillfully plotted the ROC curve but also accurately computed the AUC. The AUC value derived from our custom function exhibited remarkable concurrence with the AUC calculated using the pre-existing functions from scikit-learn.\n",
    "\n",
    "Through this extensive analysis, we have not only highlighted the significance of performance evaluation in classification models but also proved the potency of our implementations in computing performance metrics and generating insightful evaluation visuals. These custom functions offer a flexible and dependable means of assessing the performance of binary classification models, completely independent of pre-built functions."
   ]
  },
  {
   "cell_type": "code",
   "execution_count": null,
   "id": "7cb89537",
   "metadata": {},
   "outputs": [],
   "source": []
  }
 ],
 "metadata": {
  "kernelspec": {
   "display_name": "Python 3 (ipykernel)",
   "language": "python",
   "name": "python3"
  },
  "language_info": {
   "codemirror_mode": {
    "name": "ipython",
    "version": 3
   },
   "file_extension": ".py",
   "mimetype": "text/x-python",
   "name": "python",
   "nbconvert_exporter": "python",
   "pygments_lexer": "ipython3",
   "version": "3.10.11"
  }
 },
 "nbformat": 4,
 "nbformat_minor": 5
}
