{
 "cells": [
  {
   "cell_type": "markdown",
   "id": "7a8f008b",
   "metadata": {},
   "source": [
    "# <center>DAV 6150 Module 2 Assignment</center>\n",
    "## <center>Predicting Curb Weight of Cars: Linear Regression Analysis</center>"
   ]
  },
  {
   "cell_type": "markdown",
   "id": "51ba06cd",
   "metadata": {},
   "source": [
    "## Introduction\n",
    "In this assingnment, I aim to predict the curb weight of cars based on various attributes such as make, fuel type, engine size, and horsepower. I will use linear regression models and perform K-fold cross-validation to evaluate their performance. The steps we will follow include:\n",
    "\n",
    "1. Exploratory Data Analysis (EDA): I'll analyze the dataset to understand the variables and their relationships, identify any missing values, and derive insights for predictive modeling.\n",
    "2. Regression Model Construction & Evaluation: Futhermore, I'll select explanatory variables, split the dataset, construct linear regression models, and evaluate their performance using K-fold cross-validation.\n",
    "3. Conclusions: Lastly I'll summarize the findings, discuss the score of the models, and provide preference between the two models."
   ]
  },
  {
   "cell_type": "markdown",
   "id": "c613d06c",
   "metadata": {},
   "source": [
    "## Exploratory Data Analysis (EDA)\n",
    "Let's start by loading the dataset and performing initial data exploration.\n",
    "\n",
    "### Importing Required Libraries\n",
    "We begin by importing the necessary libraries for data analysis and visualization.\n"
   ]
  },
  {
   "cell_type": "code",
   "execution_count": 1,
   "id": "8bd051b5",
   "metadata": {},
   "outputs": [],
   "source": [
    "import pandas as pd\n",
    "import numpy as np\n",
    "import matplotlib.pyplot as plt\n",
    "import seaborn as sns\n",
    "from sklearn.model_selection import train_test_split\n",
    "from sklearn.linear_model import LinearRegression\n",
    "from sklearn.model_selection import cross_val_score"
   ]
  },
  {
   "cell_type": "markdown",
   "id": "0eebee18",
   "metadata": {},
   "source": [
    "### Loading the Dataset\n",
    "Next, we load the dataset into a Pandas dataframe and take a quick look at the data."
   ]
  },
  {
   "cell_type": "code",
   "execution_count": 2,
   "id": "3b133384",
   "metadata": {},
   "outputs": [
    {
     "data": {
      "text/html": [
       "<div>\n",
       "<style scoped>\n",
       "    .dataframe tbody tr th:only-of-type {\n",
       "        vertical-align: middle;\n",
       "    }\n",
       "\n",
       "    .dataframe tbody tr th {\n",
       "        vertical-align: top;\n",
       "    }\n",
       "\n",
       "    .dataframe thead th {\n",
       "        text-align: right;\n",
       "    }\n",
       "</style>\n",
       "<table border=\"1\" class=\"dataframe\">\n",
       "  <thead>\n",
       "    <tr style=\"text-align: right;\">\n",
       "      <th></th>\n",
       "      <th>symboling</th>\n",
       "      <th>normalized-losses</th>\n",
       "      <th>make</th>\n",
       "      <th>fuel-type</th>\n",
       "      <th>aspiration</th>\n",
       "      <th>num-of-doors</th>\n",
       "      <th>body-style</th>\n",
       "      <th>drive-wheels</th>\n",
       "      <th>engine-location</th>\n",
       "      <th>wheel-base</th>\n",
       "      <th>...</th>\n",
       "      <th>engine-size</th>\n",
       "      <th>fuel-system</th>\n",
       "      <th>bore</th>\n",
       "      <th>stroke</th>\n",
       "      <th>compression-ratio</th>\n",
       "      <th>horsepower</th>\n",
       "      <th>peak-rpm</th>\n",
       "      <th>city-mpg</th>\n",
       "      <th>highway-mpg</th>\n",
       "      <th>price</th>\n",
       "    </tr>\n",
       "  </thead>\n",
       "  <tbody>\n",
       "    <tr>\n",
       "      <th>0</th>\n",
       "      <td>3</td>\n",
       "      <td>?</td>\n",
       "      <td>alfa-romero</td>\n",
       "      <td>gas</td>\n",
       "      <td>std</td>\n",
       "      <td>two</td>\n",
       "      <td>convertible</td>\n",
       "      <td>rwd</td>\n",
       "      <td>front</td>\n",
       "      <td>88.6</td>\n",
       "      <td>...</td>\n",
       "      <td>130</td>\n",
       "      <td>mpfi</td>\n",
       "      <td>3.47</td>\n",
       "      <td>2.68</td>\n",
       "      <td>9.0</td>\n",
       "      <td>111</td>\n",
       "      <td>5000</td>\n",
       "      <td>21</td>\n",
       "      <td>27</td>\n",
       "      <td>13495</td>\n",
       "    </tr>\n",
       "    <tr>\n",
       "      <th>1</th>\n",
       "      <td>3</td>\n",
       "      <td>?</td>\n",
       "      <td>alfa-romero</td>\n",
       "      <td>gas</td>\n",
       "      <td>std</td>\n",
       "      <td>two</td>\n",
       "      <td>convertible</td>\n",
       "      <td>rwd</td>\n",
       "      <td>front</td>\n",
       "      <td>88.6</td>\n",
       "      <td>...</td>\n",
       "      <td>130</td>\n",
       "      <td>mpfi</td>\n",
       "      <td>3.47</td>\n",
       "      <td>2.68</td>\n",
       "      <td>9.0</td>\n",
       "      <td>111</td>\n",
       "      <td>5000</td>\n",
       "      <td>21</td>\n",
       "      <td>27</td>\n",
       "      <td>16500</td>\n",
       "    </tr>\n",
       "    <tr>\n",
       "      <th>2</th>\n",
       "      <td>1</td>\n",
       "      <td>?</td>\n",
       "      <td>alfa-romero</td>\n",
       "      <td>gas</td>\n",
       "      <td>std</td>\n",
       "      <td>two</td>\n",
       "      <td>hatchback</td>\n",
       "      <td>rwd</td>\n",
       "      <td>front</td>\n",
       "      <td>94.5</td>\n",
       "      <td>...</td>\n",
       "      <td>152</td>\n",
       "      <td>mpfi</td>\n",
       "      <td>2.68</td>\n",
       "      <td>3.47</td>\n",
       "      <td>9.0</td>\n",
       "      <td>154</td>\n",
       "      <td>5000</td>\n",
       "      <td>19</td>\n",
       "      <td>26</td>\n",
       "      <td>16500</td>\n",
       "    </tr>\n",
       "    <tr>\n",
       "      <th>3</th>\n",
       "      <td>2</td>\n",
       "      <td>164</td>\n",
       "      <td>audi</td>\n",
       "      <td>gas</td>\n",
       "      <td>std</td>\n",
       "      <td>four</td>\n",
       "      <td>sedan</td>\n",
       "      <td>fwd</td>\n",
       "      <td>front</td>\n",
       "      <td>99.8</td>\n",
       "      <td>...</td>\n",
       "      <td>109</td>\n",
       "      <td>mpfi</td>\n",
       "      <td>3.19</td>\n",
       "      <td>3.4</td>\n",
       "      <td>10.0</td>\n",
       "      <td>102</td>\n",
       "      <td>5500</td>\n",
       "      <td>24</td>\n",
       "      <td>30</td>\n",
       "      <td>13950</td>\n",
       "    </tr>\n",
       "    <tr>\n",
       "      <th>4</th>\n",
       "      <td>2</td>\n",
       "      <td>164</td>\n",
       "      <td>audi</td>\n",
       "      <td>gas</td>\n",
       "      <td>std</td>\n",
       "      <td>four</td>\n",
       "      <td>sedan</td>\n",
       "      <td>4wd</td>\n",
       "      <td>front</td>\n",
       "      <td>99.4</td>\n",
       "      <td>...</td>\n",
       "      <td>136</td>\n",
       "      <td>mpfi</td>\n",
       "      <td>3.19</td>\n",
       "      <td>3.4</td>\n",
       "      <td>8.0</td>\n",
       "      <td>115</td>\n",
       "      <td>5500</td>\n",
       "      <td>18</td>\n",
       "      <td>22</td>\n",
       "      <td>17450</td>\n",
       "    </tr>\n",
       "  </tbody>\n",
       "</table>\n",
       "<p>5 rows × 26 columns</p>\n",
       "</div>"
      ],
      "text/plain": [
       "   symboling  normalized-losses         make fuel-type aspiration  \\\n",
       "0           3                 ?  alfa-romero       gas        std   \n",
       "1           3                 ?  alfa-romero       gas        std   \n",
       "2           1                 ?  alfa-romero       gas        std   \n",
       "3           2               164         audi       gas        std   \n",
       "4           2               164         audi       gas        std   \n",
       "\n",
       "  num-of-doors   body-style drive-wheels engine-location  wheel-base  ...  \\\n",
       "0          two  convertible          rwd           front        88.6  ...   \n",
       "1          two  convertible          rwd           front        88.6  ...   \n",
       "2          two    hatchback          rwd           front        94.5  ...   \n",
       "3         four        sedan          fwd           front        99.8  ...   \n",
       "4         four        sedan          4wd           front        99.4  ...   \n",
       "\n",
       "   engine-size  fuel-system  bore  stroke compression-ratio horsepower  \\\n",
       "0          130         mpfi  3.47    2.68               9.0        111   \n",
       "1          130         mpfi  3.47    2.68               9.0        111   \n",
       "2          152         mpfi  2.68    3.47               9.0        154   \n",
       "3          109         mpfi  3.19     3.4              10.0        102   \n",
       "4          136         mpfi  3.19     3.4               8.0        115   \n",
       "\n",
       "   peak-rpm city-mpg highway-mpg  price  \n",
       "0      5000       21          27  13495  \n",
       "1      5000       21          27  16500  \n",
       "2      5000       19          26  16500  \n",
       "3      5500       24          30  13950  \n",
       "4      5500       18          22  17450  \n",
       "\n",
       "[5 rows x 26 columns]"
      ]
     },
     "execution_count": 2,
     "metadata": {},
     "output_type": "execute_result"
    }
   ],
   "source": [
    "df = pd.read_csv('https://raw.githubusercontent.com/kkatepal667/DAV-6150/main/M2_Data.csv')\n",
    "df.head()"
   ]
  },
  {
   "cell_type": "markdown",
   "id": "43942469",
   "metadata": {},
   "source": [
    "## Data Cleaning and Preprocessing\n",
    "We check for missing values and handle them accordingly. Additionally, we handle any inconsistencies or formatting issues in the data."
   ]
  },
  {
   "cell_type": "code",
   "execution_count": 3,
   "id": "eb42a382",
   "metadata": {},
   "outputs": [
    {
     "data": {
      "text/html": [
       "<div>\n",
       "<style scoped>\n",
       "    .dataframe tbody tr th:only-of-type {\n",
       "        vertical-align: middle;\n",
       "    }\n",
       "\n",
       "    .dataframe tbody tr th {\n",
       "        vertical-align: top;\n",
       "    }\n",
       "\n",
       "    .dataframe thead th {\n",
       "        text-align: right;\n",
       "    }\n",
       "</style>\n",
       "<table border=\"1\" class=\"dataframe\">\n",
       "  <thead>\n",
       "    <tr style=\"text-align: right;\">\n",
       "      <th></th>\n",
       "      <th>symboling</th>\n",
       "      <th>normalized-losses</th>\n",
       "      <th>make</th>\n",
       "      <th>fuel-type</th>\n",
       "      <th>aspiration</th>\n",
       "      <th>num-of-doors</th>\n",
       "      <th>body-style</th>\n",
       "      <th>drive-wheels</th>\n",
       "      <th>engine-location</th>\n",
       "      <th>wheel-base</th>\n",
       "      <th>...</th>\n",
       "      <th>engine-size</th>\n",
       "      <th>fuel-system</th>\n",
       "      <th>bore</th>\n",
       "      <th>stroke</th>\n",
       "      <th>compression-ratio</th>\n",
       "      <th>horsepower</th>\n",
       "      <th>peak-rpm</th>\n",
       "      <th>city-mpg</th>\n",
       "      <th>highway-mpg</th>\n",
       "      <th>price</th>\n",
       "    </tr>\n",
       "  </thead>\n",
       "  <tbody>\n",
       "    <tr>\n",
       "      <th>3</th>\n",
       "      <td>2</td>\n",
       "      <td>164</td>\n",
       "      <td>audi</td>\n",
       "      <td>gas</td>\n",
       "      <td>std</td>\n",
       "      <td>four</td>\n",
       "      <td>sedan</td>\n",
       "      <td>fwd</td>\n",
       "      <td>front</td>\n",
       "      <td>99.8</td>\n",
       "      <td>...</td>\n",
       "      <td>109</td>\n",
       "      <td>mpfi</td>\n",
       "      <td>3.19</td>\n",
       "      <td>3.4</td>\n",
       "      <td>10.0</td>\n",
       "      <td>102</td>\n",
       "      <td>5500</td>\n",
       "      <td>24</td>\n",
       "      <td>30</td>\n",
       "      <td>13950</td>\n",
       "    </tr>\n",
       "    <tr>\n",
       "      <th>4</th>\n",
       "      <td>2</td>\n",
       "      <td>164</td>\n",
       "      <td>audi</td>\n",
       "      <td>gas</td>\n",
       "      <td>std</td>\n",
       "      <td>four</td>\n",
       "      <td>sedan</td>\n",
       "      <td>4wd</td>\n",
       "      <td>front</td>\n",
       "      <td>99.4</td>\n",
       "      <td>...</td>\n",
       "      <td>136</td>\n",
       "      <td>mpfi</td>\n",
       "      <td>3.19</td>\n",
       "      <td>3.4</td>\n",
       "      <td>8.0</td>\n",
       "      <td>115</td>\n",
       "      <td>5500</td>\n",
       "      <td>18</td>\n",
       "      <td>22</td>\n",
       "      <td>17450</td>\n",
       "    </tr>\n",
       "    <tr>\n",
       "      <th>6</th>\n",
       "      <td>1</td>\n",
       "      <td>158</td>\n",
       "      <td>audi</td>\n",
       "      <td>gas</td>\n",
       "      <td>std</td>\n",
       "      <td>four</td>\n",
       "      <td>sedan</td>\n",
       "      <td>fwd</td>\n",
       "      <td>front</td>\n",
       "      <td>105.8</td>\n",
       "      <td>...</td>\n",
       "      <td>136</td>\n",
       "      <td>mpfi</td>\n",
       "      <td>3.19</td>\n",
       "      <td>3.4</td>\n",
       "      <td>8.5</td>\n",
       "      <td>110</td>\n",
       "      <td>5500</td>\n",
       "      <td>19</td>\n",
       "      <td>25</td>\n",
       "      <td>17710</td>\n",
       "    </tr>\n",
       "    <tr>\n",
       "      <th>8</th>\n",
       "      <td>1</td>\n",
       "      <td>158</td>\n",
       "      <td>audi</td>\n",
       "      <td>gas</td>\n",
       "      <td>turbo</td>\n",
       "      <td>four</td>\n",
       "      <td>sedan</td>\n",
       "      <td>fwd</td>\n",
       "      <td>front</td>\n",
       "      <td>105.8</td>\n",
       "      <td>...</td>\n",
       "      <td>131</td>\n",
       "      <td>mpfi</td>\n",
       "      <td>3.13</td>\n",
       "      <td>3.4</td>\n",
       "      <td>8.3</td>\n",
       "      <td>140</td>\n",
       "      <td>5500</td>\n",
       "      <td>17</td>\n",
       "      <td>20</td>\n",
       "      <td>23875</td>\n",
       "    </tr>\n",
       "    <tr>\n",
       "      <th>10</th>\n",
       "      <td>2</td>\n",
       "      <td>192</td>\n",
       "      <td>bmw</td>\n",
       "      <td>gas</td>\n",
       "      <td>std</td>\n",
       "      <td>two</td>\n",
       "      <td>sedan</td>\n",
       "      <td>rwd</td>\n",
       "      <td>front</td>\n",
       "      <td>101.2</td>\n",
       "      <td>...</td>\n",
       "      <td>108</td>\n",
       "      <td>mpfi</td>\n",
       "      <td>3.5</td>\n",
       "      <td>2.8</td>\n",
       "      <td>8.8</td>\n",
       "      <td>101</td>\n",
       "      <td>5800</td>\n",
       "      <td>23</td>\n",
       "      <td>29</td>\n",
       "      <td>16430</td>\n",
       "    </tr>\n",
       "  </tbody>\n",
       "</table>\n",
       "<p>5 rows × 26 columns</p>\n",
       "</div>"
      ],
      "text/plain": [
       "    symboling   normalized-losses  make fuel-type aspiration num-of-doors  \\\n",
       "3            2                164  audi       gas        std         four   \n",
       "4            2                164  audi       gas        std         four   \n",
       "6            1                158  audi       gas        std         four   \n",
       "8            1                158  audi       gas      turbo         four   \n",
       "10           2                192   bmw       gas        std          two   \n",
       "\n",
       "   body-style drive-wheels engine-location  wheel-base  ...  engine-size  \\\n",
       "3       sedan          fwd           front        99.8  ...          109   \n",
       "4       sedan          4wd           front        99.4  ...          136   \n",
       "6       sedan          fwd           front       105.8  ...          136   \n",
       "8       sedan          fwd           front       105.8  ...          131   \n",
       "10      sedan          rwd           front       101.2  ...          108   \n",
       "\n",
       "    fuel-system  bore  stroke compression-ratio horsepower  peak-rpm city-mpg  \\\n",
       "3          mpfi  3.19     3.4              10.0        102      5500       24   \n",
       "4          mpfi  3.19     3.4               8.0        115      5500       18   \n",
       "6          mpfi  3.19     3.4               8.5        110      5500       19   \n",
       "8          mpfi  3.13     3.4               8.3        140      5500       17   \n",
       "10         mpfi   3.5     2.8               8.8        101      5800       23   \n",
       "\n",
       "   highway-mpg  price  \n",
       "3           30  13950  \n",
       "4           22  17450  \n",
       "6           25  17710  \n",
       "8           20  23875  \n",
       "10          29  16430  \n",
       "\n",
       "[5 rows x 26 columns]"
      ]
     },
     "execution_count": 3,
     "metadata": {},
     "output_type": "execute_result"
    }
   ],
   "source": [
    "# Checking for missing values\n",
    "missing_values = df[df == '?'].count()\n",
    "\n",
    "# Handling missing values\n",
    "df = df.replace('?', np.nan)\n",
    "df = df.dropna()\n",
    "\n",
    "\n",
    "# Checking data types and handling inconsistencies\n",
    "df['normalized-losses'] = df['normalized-losses'].astype(int)\n",
    "df['horsepower'] = df['horsepower'].astype(int)\n",
    "\n",
    "df.head()\n"
   ]
  },
  {
   "cell_type": "markdown",
   "id": "ac79884b",
   "metadata": {},
   "source": [
    "### Analyzing Variables\n",
    "Now, let's analyze each variable in the dataset and derive insights.\n",
    "\n",
    "#### Categorical Variables\n",
    "We examine the distribution of categorical variables and their relationship with the curb weight."
   ]
  },
  {
   "cell_type": "code",
   "execution_count": 4,
   "id": "2c4e9a99",
   "metadata": {},
   "outputs": [
    {
     "data": {
      "image/png": "[encoded data removed]",
      "text/plain": [
       "<Figure size 720x432 with 1 Axes>"
      ]
     },
     "metadata": {
      "needs_background": "light"
     },
     "output_type": "display_data"
    }
   ],
   "source": [
    "# Bar plot of make\n",
    "plt.figure(figsize=(10, 6))\n",
    "sns.countplot(x='make', data=df)\n",
    "plt.title('Distribution of Car Makes')\n",
    "plt.xlabel('Make')\n",
    "plt.ylabel('Count')\n",
    "plt.xticks(rotation=90)\n",
    "plt.show()\n"
   ]
  },
  {
   "cell_type": "markdown",
   "id": "6fbf6d59",
   "metadata": {},
   "source": [
    "Upon examining the plot, it becomes apparent that a significant number of individuals opt for Toyota vehicles, closely followed by Nissan. Conversely, Jaguar and Porsche stand out as the least prevalent automobile brands. This bar chart effectively facilitates comprehension regarding the dispersion of vehicle makes within the population."
   ]
  },
  {
   "cell_type": "code",
   "execution_count": 5,
   "id": "b25e0f61",
   "metadata": {},
   "outputs": [
    {
     "data": {
      "image/png": "[encoded data removed]",
      "text/plain": [
       "<Figure size 720x432 with 1 Axes>"
      ]
     },
     "metadata": {
      "needs_background": "light"
     },
     "output_type": "display_data"
    }
   ],
   "source": [
    "# Box plot of fuel type vs. curb weight\n",
    "plt.figure(figsize=(10, 6))\n",
    "sns.boxplot(x='fuel-type', y='curb-weight', data=df)\n",
    "plt.title('Fuel Type vs. Curb Weight')\n",
    "plt.xlabel('Fuel Type')\n",
    "plt.ylabel('Curb Weight')\n",
    "plt.show()"
   ]
  },
  {
   "cell_type": "markdown",
   "id": "c842c6bb",
   "metadata": {},
   "source": [
    "The box plot illustrates the relationship between fuel type and curb weight. It reveals that the gas-powered vehicles exhibit a smaller range of curb weights compared to the diesel-powered vehicles. The gas box plot displays a higher upper whisker relative to the lower whisker, indicating the presence of heavier gas vehicles in the upper range of curb weights. Conversely, the diesel box plot demonstrates relatively balanced whiskers, while the central tendency leans towards the upper side of the box, suggesting a tendency for heavier diesel vehicles. This comparison highlights the distinct curb weight characteristics between gas and diesel fuel types, with gas vehicles showing a narrower range and a higher presence of heavier weights in the upper range, while diesel vehicles exhibit a more evenly distributed range with a tendency towards higher curb weights."
   ]
  },
  {
   "cell_type": "markdown",
   "id": "c450ad60",
   "metadata": {},
   "source": [
    "#### Numerical Variables\n",
    "We analyze the distribution and relationships of numerical variables."
   ]
  },
  {
   "cell_type": "code",
   "execution_count": 6,
   "id": "c0bed688",
   "metadata": {},
   "outputs": [
    {
     "data": {
      "image/png": "[encoded data removed]",
      "text/plain": [
       "<Figure size 576x432 with 2 Axes>"
      ]
     },
     "metadata": {
      "needs_background": "light"
     },
     "output_type": "display_data"
    }
   ],
   "source": [
    "# Select the variables of interest\n",
    "variables = ['length', 'height', 'width', 'curb-weight']\n",
    "\n",
    "# Create a subset dataframe with the selected variables\n",
    "subset_df = df[variables]\n",
    "\n",
    "# Compute the correlation matrix\n",
    "correlation_matrix = subset_df.corr()\n",
    "\n",
    "# Plot the correlation matrix using a heatmap\n",
    "plt.figure(figsize=(8, 6))\n",
    "sns.heatmap(correlation_matrix, annot=True, cmap='coolwarm', fmt=\".2f\", linewidths=0.5)\n",
    "plt.title(\"Correlation Matrix\")\n",
    "plt.show()"
   ]
  },
  {
   "cell_type": "markdown",
   "id": "c61c1e70",
   "metadata": {},
   "source": [
    "The correlation matrix provides a comprehensive overview of the relationships between the variables of interest, namely length, height, width, and curb weight. The correlation coefficient between length and curb weight is found to be 0.87, indicating a strong positive correlation. This suggests that as the length of a car increases, so does its curb weight. Similarly, the correlation coefficient between width and curb weight is also 0.87, highlighting a strong positive correlation. This implies that wider cars tend to have higher curb weights. On the other hand, the correlation coefficient between height and curb weight is relatively weaker at 0.37, suggesting a less pronounced positive correlation. These findings suggest that both length and width are significant factors influencing curb weight, while height has a comparatively smaller impact. "
   ]
  },
  {
   "cell_type": "code",
   "execution_count": 7,
   "id": "280afeb5",
   "metadata": {},
   "outputs": [
    {
     "data": {
      "image/png": "[encoded data removed]",
      "text/plain": [
       "<Figure size 720x432 with 1 Axes>"
      ]
     },
     "metadata": {
      "needs_background": "light"
     },
     "output_type": "display_data"
    }
   ],
   "source": [
    "# Histogram of engine size\n",
    "plt.figure(figsize=(10, 6))\n",
    "sns.histplot(df['engine-size'], kde=True)\n",
    "plt.title('Distribution of Engine Size')\n",
    "plt.xlabel('Engine Size')\n",
    "plt.ylabel('Count')\n",
    "plt.show()"
   ]
  },
  {
   "cell_type": "markdown",
   "id": "d4ccbd3c",
   "metadata": {},
   "source": [
    "The histogram plot provides a visual representation of the distribution of engine sizes, uncovering a notable pattern. Specifically, the histogram suggests a positive skewness, indicating a greater frequency or concentration of engine sizes within a specific range. This observation suggests a potential preference or common trend in selecting engines that fall within this particular size interval."
   ]
  },
  {
   "cell_type": "code",
   "execution_count": 8,
   "id": "41987664",
   "metadata": {},
   "outputs": [
    {
     "data": {
      "image/png": "[encoded data removed]",
      "text/plain": [
       "<Figure size 720x432 with 1 Axes>"
      ]
     },
     "metadata": {
      "needs_background": "light"
     },
     "output_type": "display_data"
    }
   ],
   "source": [
    "# Scatter plot of horsepower vs. curb weight\n",
    "plt.figure(figsize=(10, 6))\n",
    "sns.scatterplot(x='horsepower', y='curb-weight', data=df)\n",
    "plt.title('Horsepower vs. Curb Weight')\n",
    "plt.xlabel('Horsepower')\n",
    "plt.ylabel('Curb Weight')\n",
    "plt.show()"
   ]
  },
  {
   "cell_type": "markdown",
   "id": "3a8c141f",
   "metadata": {},
   "source": [
    "The scatter plot serves as a means to examine the correlation between the Horsepower and the weight of the curb, assessing the strength of their relationship. Based on the analysis conducted, it is apparent that there exists a positive correlation between Horsepower and curb weight. This implies that an increase in the weight of the curb corresponds to an increase in its horsepower.\n",
    "\n",
    "## Regression Model Construction & Evaluation\n",
    "In this section, we shall proceed with the construction and evaluation of linear regression models aimed at predicting the curb weight. These models will incorporate the explanatory variables that were identified during the exploratory data analysis (EDA) phase. By leveraging the insights gained from our preliminary analysis, we aim to develop robust regression models that can effectively estimate the curb weight based on the given set of predictors. The evaluation process will involve assessing the performance of the models through various metrics and techniques, such as K-fold cross-validation, to ensure their reliability and accuracy in capturing the relationship between the explanatory variables and the curb weight.\n",
    "\n",
    "### Feature Selection\n",
    "After conducting our exploratory data analysis (EDA), we have made informed decisions regarding the selection of explanatory variables for our regression models. In the first model, we have chosen 'engine-size', 'horsepower', and 'fuel-type' as our predictors, considering their potential influence on the curb weight. For the second model, we have opted for 'length', 'width', and 'height' as the explanatory variables, based on their expected impact on curb weight. To ensure the reliability and generalizability of our models, we will perform data splitting, dividing the dataset into training and testing sets. By training our models on a subset of the data and evaluating their performance on the remaining unseen data, we aim to mitigate the risk of overfitting, which can lead to overly optimistic results. This approach will enable us to derive more robust and meaningful models that have better potential for predicting curb weight accurately."
   ]
  },
  {
   "cell_type": "code",
   "execution_count": 9,
   "id": "ba3345c2",
   "metadata": {},
   "outputs": [],
   "source": [
    "# Selecting explanatory variables\n",
    "X1 = df[['engine-size', 'horsepower', 'fuel-type']]\n",
    "y1 = df['curb-weight']\n",
    "\n",
    "X2 = df[['length', 'width', 'height']]\n",
    "y2 = df['curb-weight']"
   ]
  },
  {
   "cell_type": "code",
   "execution_count": 10,
   "id": "95af12d4",
   "metadata": {},
   "outputs": [],
   "source": [
    "# One-hot encoding of categorical variables\n",
    "X1 = pd.get_dummies(X1, drop_first=True)\n",
    "\n",
    "# Splitting the dataset\n",
    "X1_train, X1_test, y1_train, y1_test = train_test_split(X1, y1, test_size=0.2, random_state=42)\n",
    "X2_train, X2_test, y2_train, y2_test = train_test_split(X2, y2, test_size=0.2, random_state=42)"
   ]
  },
  {
   "cell_type": "markdown",
   "id": "e8d9cd27",
   "metadata": {},
   "source": [
    "### Linear Regression Models\n",
    "To develop a predictive models for curb weight based on the provided explanatory variables, we employ a linear regression approach. The linear regression models are trained using the available training data, enabling them to learn the underlying patterns and relationships between the independent variables and the target variable. By fitting the models to the training data, we aim to estimate the coefficients that define the linear relationship between the explanatory variables and curb weight. This models will serve as a basis for making predictions on new, unseen data points."
   ]
  },
  {
   "cell_type": "code",
   "execution_count": 11,
   "id": "7aa5bac4",
   "metadata": {},
   "outputs": [
    {
     "data": {
      "text/plain": [
       "LinearRegression()"
      ]
     },
     "execution_count": 11,
     "metadata": {},
     "output_type": "execute_result"
    }
   ],
   "source": [
    "# Constructing a linear regression model\n",
    "model1 = LinearRegression()\n",
    "model2 = LinearRegression()\n",
    "\n",
    "# Fitting the model to the training data\n",
    "model1.fit(X1_train, y1_train)\n",
    "model2.fit(X2_train, y2_train)"
   ]
  },
  {
   "cell_type": "code",
   "execution_count": 12,
   "id": "e05bb9e7",
   "metadata": {},
   "outputs": [
    {
     "name": "stdout",
     "output_type": "stream",
     "text": [
      "Model1 Score:  0.5559521627357168\n",
      "Model2 Score:  0.6375526565252916\n"
     ]
    }
   ],
   "source": [
    "# Set the value of K\n",
    "K = 5\n",
    "\n",
    "# Evaluate Model 1 using K-fold cross-validation\n",
    "model1_scores = cross_val_score(model1, X1_test, y1_test, cv=K)\n",
    "model1_avg_score = model1_scores.mean()\n",
    "\n",
    "# Evaluate Model 2 using K-fold cross-validation\n",
    "model2_scores = cross_val_score(model2, X2_test, y2_test, cv=K)\n",
    "model2_avg_score = model2_scores.mean()\n",
    "\n",
    "print(\"Model1 Score: \", model1_avg_score)\n",
    "print(\"Model2 Score: \", model2_avg_score)"
   ]
  },
  {
   "cell_type": "markdown",
   "id": "02fc6a0d",
   "metadata": {},
   "source": [
    "## Conclusion\n",
    "\n",
    "In this assignment, the main objective was to conduct exploratory data analysis (EDA) on a car dataset in order to examine the relationships between various attributes and the curb weight. Through our analysis, we discovered a positive correlation between horsepower and curb weight. Additionally, we identified that the length and width of the curb significantly contribute to its weight and that most of the people use Toyota.\n",
    "\n",
    "To predict the curb weight, we developed two linear regression models using different sets of independent variables. To assess the models' performance, we employed K-fold cross-validation and calculated the average R^2 scores. Based on the evaluation, we determined that Model2 outperformed Model1. Model2 attained an average R^2 score of 0.6376, surpassing Model1's average score of 0.3714. As a result, we deemed Model2 to be the preferred choice over Model1."
   ]
  },
  {
   "cell_type": "code",
   "execution_count": null,
   "id": "a8252d49",
   "metadata": {},
   "outputs": [],
   "source": []
  }
 ],
 "metadata": {
  "kernelspec": {
   "display_name": "Python 3 (ipykernel)",
   "language": "python",
   "name": "python3"
  },
  "language_info": {
   "codemirror_mode": {
    "name": "ipython",
    "version": 3
   },
   "file_extension": ".py",
   "mimetype": "text/x-python",
   "name": "python",
   "nbconvert_exporter": "python",
   "pygments_lexer": "ipython3",
   "version": "3.9.12"
  }
 },
 "nbformat": 4,
 "nbformat_minor": 5
}
